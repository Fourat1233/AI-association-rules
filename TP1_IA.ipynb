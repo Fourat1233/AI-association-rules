{
  "nbformat": 4,
  "nbformat_minor": 0,
  "metadata": {
    "colab": {
      "provenance": [],
      "authorship_tag": "ABX9TyOXZ//ODn7fEuOF/hgUrgZX",
      "include_colab_link": true
    },
    "kernelspec": {
      "name": "python3",
      "display_name": "Python 3"
    },
    "language_info": {
      "name": "python"
    }
  },
  "cells": [
    {
      "cell_type": "markdown",
      "metadata": {
        "id": "view-in-github",
        "colab_type": "text"
      },
      "source": [
        "<a href=\"https://colab.research.google.com/github/Fourat1233/AI-association-rules/blob/main/TP1_IA.ipynb\" target=\"_parent\"><img src=\"https://colab.research.google.com/assets/colab-badge.svg\" alt=\"Open In Colab\"/></a>"
      ]
    },
    {
      "cell_type": "code",
      "source": [
        "\n",
        "#importation des données\n",
        "import numpy\n",
        "import pandas as pd\n",
        "from mlxtend.frequent_patterns import apriori\n",
        "\n",
        "D = pd.read_table(\"sample_data/basket.txt\",delimiter=\"\\t\",header=0)\n",
        "#10 premières lignes\n",
        "print(D.head(10))\n"
      ],
      "metadata": {
        "colab": {
          "base_uri": "https://localhost:8080/"
        },
        "id": "zmPXlSHvDDwq",
        "outputId": "562f1122-1cdb-4634-d487-8e34e82c710b"
      },
      "execution_count": 16,
      "outputs": [
        {
          "output_type": "stream",
          "name": "stdout",
          "text": [
            "   ID                   Product\n",
            "0   1                   Peaches\n",
            "1   2             Vegetable_Oil\n",
            "2   2               Frozen_Corn\n",
            "3   3                     Plums\n",
            "4   4               Pancake_Mix\n",
            "5   5                    Cheese\n",
            "6   6               Cauliflower\n",
            "7   7                 2pct_Milk\n",
            "8   8  98pct_Fat_Free_Hamburger\n",
            "9   8              Potato_Chips\n"
          ]
        }
      ]
    },
    {
      "cell_type": "code",
      "source": [
        "\n",
        "#vérification des dimensions\n",
        "print(D.shape)\n"
      ],
      "metadata": {
        "colab": {
          "base_uri": "https://localhost:8080/"
        },
        "id": "9B8_hyEEDEJh",
        "outputId": "38dd1fc7-de30-4fc0-db32-f455e88c30ed"
      },
      "execution_count": 5,
      "outputs": [
        {
          "output_type": "stream",
          "name": "stdout",
          "text": [
            "(12935, 2)\n"
          ]
        }
      ]
    },
    {
      "cell_type": "code",
      "source": [
        "#tableau croisé 0/1\n",
        "TC = pd.crosstab(D.ID,D.Product)\n",
        "print(TC.iloc[:20,:3])\n",
        "\n"
      ],
      "metadata": {
        "colab": {
          "base_uri": "https://localhost:8080/"
        },
        "id": "r2KxK3EDDHE4",
        "outputId": "f0c49dc2-39ba-4f92-c7fa-907200175e2b"
      },
      "execution_count": 6,
      "outputs": [
        {
          "output_type": "stream",
          "name": "stdout",
          "text": [
            "Product  100_Watt_Lightbulb  2pct_Milk  40_Watt_Lightbulb\n",
            "ID                                                       \n",
            "1                         0          0                  0\n",
            "2                         0          0                  0\n",
            "3                         0          0                  0\n",
            "4                         0          0                  0\n",
            "5                         0          0                  0\n",
            "6                         0          0                  0\n",
            "7                         0          1                  0\n",
            "8                         0          0                  0\n",
            "9                         0          0                  0\n",
            "10                        0          0                  0\n",
            "11                        0          0                  0\n",
            "12                        0          0                  0\n",
            "13                        0          0                  0\n",
            "14                        0          0                  0\n",
            "15                        0          0                  0\n",
            "16                        0          0                  0\n",
            "17                        0          0                  0\n",
            "18                        0          0                  0\n",
            "19                        0          0                  0\n",
            "20                        0          0                  0\n"
          ]
        }
      ]
    },
    {
      "cell_type": "code",
      "source": [
        "#dimensions\n",
        "print(TC.shape)\n"
      ],
      "metadata": {
        "colab": {
          "base_uri": "https://localhost:8080/"
        },
        "id": "rM0ND-IbDJkz",
        "outputId": "b40519ec-87b8-434d-fc64-7a9c7cc11c5d"
      },
      "execution_count": 7,
      "outputs": [
        {
          "output_type": "stream",
          "name": "stdout",
          "text": [
            "(1360, 303)\n"
          ]
        }
      ]
    },
    {
      "cell_type": "code",
      "source": [
        "#liste des noms de produits\n",
        "print(TC.columns)\n"
      ],
      "metadata": {
        "colab": {
          "base_uri": "https://localhost:8080/"
        },
        "id": "AI97dX6yDLbw",
        "outputId": "052f3ad7-2396-4a72-8de4-97b74f968d00"
      },
      "execution_count": 8,
      "outputs": [
        {
          "output_type": "stream",
          "name": "stdout",
          "text": [
            "Index(['100_Watt_Lightbulb', '2pct_Milk', '40_Watt_Lightbulb',\n",
            "       '60_Watt_Lightbulb', '75_Watt_Lightbulb', '98pct_Fat_Free_Hamburger',\n",
            "       'AA_Cell_Batteries', 'Apple_Cinnamon_Waffles', 'Apple_Drink',\n",
            "       'Apple_Fruit_Roll',\n",
            "       ...\n",
            "       'White_Bread', 'White_Wine', 'White_Zinfandel_Wine', 'Whole_Corn',\n",
            "       'Whole_Green_Beans', 'Whole_Milk', 'Window_Cleaner', 'Wood_Polish',\n",
            "       'flav_Fruit_Bars', 'flav_Ice'],\n",
            "      dtype='object', name='Product', length=303)\n"
          ]
        }
      ]
    },
    {
      "cell_type": "code",
      "source": [
        "\n",
        "#importation de la fonction apriori\n",
        "#itemsets frequents\n",
        "freq_itemsets = apriori(TC,min_support=0.025,max_len=4,use_colnames=True)\n",
        "#type -> pandas DataFrame\n",
        "type(freq_itemsets)\n",
        "\n",
        "#liste des colonnes\n",
        "print(freq_itemsets.columns)\n",
        "\n",
        "#nombre d'itemsets\n",
        "print(freq_itemsets.shape)\n",
        "\n",
        "#affichage des 15 premiers itemsets\n",
        "print(freq_itemsets.head(15))\n"
      ],
      "metadata": {
        "colab": {
          "base_uri": "https://localhost:8080/"
        },
        "id": "9ExzPWXoDNfd",
        "outputId": "6ce6ddd6-ca45-4795-f879-01a26e760e1b"
      },
      "execution_count": 10,
      "outputs": [
        {
          "output_type": "stream",
          "name": "stdout",
          "text": [
            "Index(['support', 'itemsets'], dtype='object')\n",
            "(603, 2)\n",
            "     support                    itemsets\n",
            "0   0.030147        (100_Watt_Lightbulb)\n",
            "1   0.109559                 (2pct_Milk)\n",
            "2   0.037500         (60_Watt_Lightbulb)\n",
            "3   0.031618         (75_Watt_Lightbulb)\n",
            "4   0.093382  (98pct_Fat_Free_Hamburger)\n",
            "5   0.031618         (AA_Cell_Batteries)\n",
            "6   0.025735    (Apple_Cinnamon_Waffles)\n",
            "7   0.026471               (Apple_Drink)\n",
            "8   0.031618          (Apple_Fruit_Roll)\n",
            "9   0.032353                 (Apple_Jam)\n",
            "10  0.033088               (Apple_Jelly)\n",
            "11  0.032353               (Apple_Sauce)\n",
            "12  0.053676                    (Apples)\n",
            "13  0.066912                   (Aspirin)\n",
            "14  0.027941               (Avocado_Dip)\n"
          ]
        }
      ]
    },
    {
      "cell_type": "code",
      "source": [
        "#type du champ 'itemsets'\n",
        "print(type(freq_itemsets.itemsets))\n"
      ],
      "metadata": {
        "colab": {
          "base_uri": "https://localhost:8080/"
        },
        "id": "gbwvrl4ZDuED",
        "outputId": "b3b486e5-9664-41b9-edff-e5b2b4c4f565"
      },
      "execution_count": 11,
      "outputs": [
        {
          "output_type": "stream",
          "name": "stdout",
          "text": [
            "<class 'pandas.core.series.Series'>\n"
          ]
        }
      ]
    },
    {
      "cell_type": "code",
      "source": [
        "#accès indexé au premier élément\n",
        "print(freq_itemsets.itemsets[0])\n"
      ],
      "metadata": {
        "colab": {
          "base_uri": "https://localhost:8080/"
        },
        "id": "Qi9IVE1tDzjg",
        "outputId": "d4e39edc-8419-457f-95c8-7f9eb9cc40ec"
      },
      "execution_count": 12,
      "outputs": [
        {
          "output_type": "stream",
          "name": "stdout",
          "text": [
            "frozenset({'100_Watt_Lightbulb'})\n"
          ]
        }
      ]
    },
    {
      "cell_type": "code",
      "source": [
        "#fonction de test d'inclusion\n",
        "def is_inclus(x,items):\n",
        " return items.issubset(x)"
      ],
      "metadata": {
        "id": "68fR9R8yD0aG"
      },
      "execution_count": 13,
      "outputs": []
    },
    {
      "cell_type": "code",
      "source": [
        "#recherche des index des itemsets correspondant à une condition\n",
        "id = numpy.where(freq_itemsets.itemsets.apply(is_inclus,items={'Aspirin'}))\n",
        "print(id)\n"
      ],
      "metadata": {
        "colab": {
          "base_uri": "https://localhost:8080/"
        },
        "id": "icA9OA7cD7dG",
        "outputId": "4a992e47-2cf1-4349-ea55-0fabc8eace61"
      },
      "execution_count": 14,
      "outputs": [
        {
          "output_type": "stream",
          "name": "stdout",
          "text": [
            "(array([ 13, 208, 249, 272, 273, 274, 275, 276, 277, 278, 279, 280, 281,\n",
            "       282, 283, 284, 285, 286, 509, 510, 511, 552, 553, 554, 555, 556]),)\n"
          ]
        }
      ]
    },
    {
      "cell_type": "code",
      "source": [
        "#affichage des itemsets corresp.\n",
        "print(freq_itemsets.loc[id])\n"
      ],
      "metadata": {
        "colab": {
          "base_uri": "https://localhost:8080/"
        },
        "id": "h94vdJhoD9mX",
        "outputId": "4e8d6246-8271-4222-cf37-cb4af1503bf5"
      },
      "execution_count": 15,
      "outputs": [
        {
          "output_type": "stream",
          "name": "stdout",
          "text": [
            "      support                              itemsets\n",
            "13   0.066912                             (Aspirin)\n",
            "208  0.034559                  (Aspirin, 2pct_Milk)\n",
            "249  0.027941   (Aspirin, 98pct_Fat_Free_Hamburger)\n",
            "272  0.027206                       (Cola, Aspirin)\n",
            "273  0.025735              (Aspirin, Domestic_Beer)\n",
            "274  0.038235                       (Aspirin, Eggs)\n",
            "275  0.027206                   (Hot_Dogs, Aspirin)\n",
            "276  0.027206                     (Aspirin, Onions)\n",
            "277  0.027206   (Aspirin, Pepperoni_Pizza_-_Frozen)\n",
            "278  0.025000               (Aspirin, Popcorn_Salt)\n",
            "279  0.036029               (Aspirin, Potato_Chips)\n",
            "280  0.030147                   (Aspirin, Potatoes)\n",
            "281  0.030147               (Aspirin, Sweet_Relish)\n",
            "282  0.028676               (Aspirin, Toilet_Paper)\n",
            "283  0.025000                   (Aspirin, Tomatoes)\n",
            "284  0.030882                 (Aspirin, Toothpaste)\n",
            "285  0.025000                (Aspirin, Wheat_Bread)\n",
            "286  0.041912                (Aspirin, White_Bread)\n",
            "509  0.025735            (Aspirin, 2pct_Milk, Eggs)\n",
            "510  0.025000    (Aspirin, 2pct_Milk, Potato_Chips)\n",
            "511  0.027206     (Aspirin, 2pct_Milk, White_Bread)\n",
            "552  0.025000         (Potato_Chips, Aspirin, Eggs)\n",
            "553  0.029412          (Aspirin, White_Bread, Eggs)\n",
            "554  0.027206  (Aspirin, White_Bread, Potato_Chips)\n",
            "555  0.025000      (Aspirin, Potatoes, White_Bread)\n",
            "556  0.025735    (Aspirin, White_Bread, Toothpaste)\n"
          ]
        }
      ]
    },
    {
      "cell_type": "code",
      "source": [
        "#passer par une fonction lambda si on est pressé\n",
        "numpy.where(freq_itemsets.itemsets.apply(lambda x,ensemble:ensemble.issubset(x),ensemble={'Aspirin'}))\n"
      ],
      "metadata": {
        "colab": {
          "base_uri": "https://localhost:8080/"
        },
        "id": "A7s-0maID_81",
        "outputId": "b4a414fd-5361-441e-8bfc-04760be3758e"
      },
      "execution_count": 17,
      "outputs": [
        {
          "output_type": "execute_result",
          "data": {
            "text/plain": [
              "(array([ 13, 208, 249, 272, 273, 274, 275, 276, 277, 278, 279, 280, 281,\n",
              "        282, 283, 284, 285, 286, 509, 510, 511, 552, 553, 554, 555, 556]),)"
            ]
          },
          "metadata": {},
          "execution_count": 17
        }
      ]
    },
    {
      "cell_type": "code",
      "source": [
        "#itemsets contenant Aspirin - passer par les méthodes natives de Series\n",
        "print(freq_itemsets[freq_itemsets['itemsets'].ge({'Aspirin'})])\n"
      ],
      "metadata": {
        "colab": {
          "base_uri": "https://localhost:8080/"
        },
        "id": "PmMrRU93EfS4",
        "outputId": "89903ea7-6bdd-43e7-c52a-1bfa574e95b8"
      },
      "execution_count": 18,
      "outputs": [
        {
          "output_type": "stream",
          "name": "stdout",
          "text": [
            "      support                              itemsets\n",
            "13   0.066912                             (Aspirin)\n",
            "208  0.034559                  (Aspirin, 2pct_Milk)\n",
            "249  0.027941   (Aspirin, 98pct_Fat_Free_Hamburger)\n",
            "272  0.027206                       (Cola, Aspirin)\n",
            "273  0.025735              (Aspirin, Domestic_Beer)\n",
            "274  0.038235                       (Aspirin, Eggs)\n",
            "275  0.027206                   (Hot_Dogs, Aspirin)\n",
            "276  0.027206                     (Aspirin, Onions)\n",
            "277  0.027206   (Aspirin, Pepperoni_Pizza_-_Frozen)\n",
            "278  0.025000               (Aspirin, Popcorn_Salt)\n",
            "279  0.036029               (Aspirin, Potato_Chips)\n",
            "280  0.030147                   (Aspirin, Potatoes)\n",
            "281  0.030147               (Aspirin, Sweet_Relish)\n",
            "282  0.028676               (Aspirin, Toilet_Paper)\n",
            "283  0.025000                   (Aspirin, Tomatoes)\n",
            "284  0.030882                 (Aspirin, Toothpaste)\n",
            "285  0.025000                (Aspirin, Wheat_Bread)\n",
            "286  0.041912                (Aspirin, White_Bread)\n",
            "509  0.025735            (Aspirin, 2pct_Milk, Eggs)\n",
            "510  0.025000    (Aspirin, 2pct_Milk, Potato_Chips)\n",
            "511  0.027206     (Aspirin, 2pct_Milk, White_Bread)\n",
            "552  0.025000         (Potato_Chips, Aspirin, Eggs)\n",
            "553  0.029412          (Aspirin, White_Bread, Eggs)\n",
            "554  0.027206  (Aspirin, White_Bread, Potato_Chips)\n",
            "555  0.025000      (Aspirin, Potatoes, White_Bread)\n",
            "556  0.025735    (Aspirin, White_Bread, Toothpaste)\n"
          ]
        }
      ]
    },
    {
      "cell_type": "code",
      "source": [
        "#itemset avec Aspirin\n",
        "print(freq_itemsets[freq_itemsets['itemsets'].eq({'Aspirin'})])\n"
      ],
      "metadata": {
        "colab": {
          "base_uri": "https://localhost:8080/"
        },
        "id": "uwYjvcNrEhw9",
        "outputId": "0220df94-9832-418d-b1e5-c9dc1c57a14f"
      },
      "execution_count": 19,
      "outputs": [
        {
          "output_type": "stream",
          "name": "stdout",
          "text": [
            "     support   itemsets\n",
            "13  0.066912  (Aspirin)\n"
          ]
        }
      ]
    },
    {
      "cell_type": "code",
      "source": [
        "#itemsets contenant Aspirin et Eggs\n",
        "print(freq_itemsets[freq_itemsets['itemsets'].ge({'Aspirin','Eggs'})])"
      ],
      "metadata": {
        "colab": {
          "base_uri": "https://localhost:8080/"
        },
        "id": "CMGDR6_9Eh-N",
        "outputId": "c4cd1675-83c4-4c4d-d5a7-576017d5496f"
      },
      "execution_count": 20,
      "outputs": [
        {
          "output_type": "stream",
          "name": "stdout",
          "text": [
            "      support                       itemsets\n",
            "274  0.038235                (Aspirin, Eggs)\n",
            "509  0.025735     (Aspirin, 2pct_Milk, Eggs)\n",
            "552  0.025000  (Potato_Chips, Aspirin, Eggs)\n",
            "553  0.029412   (Aspirin, White_Bread, Eggs)\n"
          ]
        }
      ]
    },
    {
      "cell_type": "code",
      "source": [
        "#itemsets contenant Aspirin et Eggs\n",
        "print(freq_itemsets[freq_itemsets['itemsets'].ge({'Eggs','Aspirin'})])\n"
      ],
      "metadata": {
        "colab": {
          "base_uri": "https://localhost:8080/"
        },
        "id": "TyGhwt6EEiGl",
        "outputId": "6148402f-f8b6-4572-e1c7-99a8d69b56b9"
      },
      "execution_count": 21,
      "outputs": [
        {
          "output_type": "stream",
          "name": "stdout",
          "text": [
            "      support                       itemsets\n",
            "274  0.038235                (Aspirin, Eggs)\n",
            "509  0.025735     (Aspirin, 2pct_Milk, Eggs)\n",
            "552  0.025000  (Potato_Chips, Aspirin, Eggs)\n",
            "553  0.029412   (Aspirin, White_Bread, Eggs)\n"
          ]
        }
      ]
    },
    {
      "cell_type": "code",
      "source": [
        "#fonction de calcul des règles\n",
        "from mlxtend.frequent_patterns import association_rules\n",
        "#génération des règles à partir des itemsets fréquents\n",
        "regles = association_rules(freq_itemsets,metric=\"confidence\",min_threshold=0.75)\n",
        "#type de l'objet renvoyé\n",
        "print(type(regles))\n",
        "#dimension\n",
        "print(regles.shape)\n",
        "#liste des colonnes\n",
        "print(regles.columns)\n"
      ],
      "metadata": {
        "colab": {
          "base_uri": "https://localhost:8080/"
        },
        "id": "yemhFHexEm19",
        "outputId": "fb1da829-1f25-4323-fe5d-bde2bb86ef4a"
      },
      "execution_count": 24,
      "outputs": [
        {
          "output_type": "stream",
          "name": "stdout",
          "text": [
            "<class 'pandas.core.frame.DataFrame'>\n",
            "(50, 9)\n",
            "Index(['antecedents', 'consequents', 'antecedent support',\n",
            "       'consequent support', 'support', 'confidence', 'lift', 'leverage',\n",
            "       'conviction'],\n",
            "      dtype='object')\n"
          ]
        }
      ]
    },
    {
      "cell_type": "code",
      "source": [
        "#5 \"premières\" règles\n",
        "print(regles.iloc[:5,:])\n"
      ],
      "metadata": {
        "colab": {
          "base_uri": "https://localhost:8080/"
        },
        "id": "A7F5PrTSEm8V",
        "outputId": "a7669ab1-2ef2-48f3-ef90-f7584ebf4f59"
      },
      "execution_count": 26,
      "outputs": [
        {
          "output_type": "stream",
          "name": "stdout",
          "text": [
            "                 antecedents    consequents  antecedent support  \\\n",
            "0       (Aspirin, 2pct_Milk)  (White_Bread)            0.034559   \n",
            "1       (2pct_Milk, Bananas)  (White_Bread)            0.031618   \n",
            "2     (White_Bread, Bananas)    (2pct_Milk)            0.032353   \n",
            "3        (Cola, Wheat_Bread)    (2pct_Milk)            0.032353   \n",
            "4  (Popcorn_Salt, 2pct_Milk)         (Eggs)            0.033088   \n",
            "\n",
            "   consequent support   support  confidence      lift  leverage  conviction  \n",
            "0            0.119118  0.027206    0.787234  6.608878  0.023089    4.140147  \n",
            "1            0.119118  0.025735    0.813953  6.833190  0.021969    4.734743  \n",
            "2            0.109559  0.025735    0.795455  7.260525  0.022191    4.353268  \n",
            "3            0.109559  0.025735    0.795455  7.260525  0.022191    4.353268  \n",
            "4            0.122794  0.027206    0.822222  6.695941  0.023143    4.934283  \n"
          ]
        }
      ]
    },
    {
      "cell_type": "code",
      "source": [
        "#règles en restreignant l'affichage à qqs colonnes\n",
        "myRegles = regles.loc[:,['antecedents','consequents','lift']]\n",
        "print(myRegles.shape)\n",
        "#pour afficher toutes les colonnes\n",
        "pd.set_option('display.max_columns',5)\n",
        "pd.set_option('precision',3)\n",
        "#affichage des 5 premières règles\n",
        "print(myRegles[:5])"
      ],
      "metadata": {
        "colab": {
          "base_uri": "https://localhost:8080/"
        },
        "id": "lY8k2TB0EnCt",
        "outputId": "18bc59eb-ece3-488e-fcb8-bc45f9933f8e"
      },
      "execution_count": 28,
      "outputs": [
        {
          "output_type": "stream",
          "name": "stdout",
          "text": [
            "(50, 3)\n",
            "                 antecedents    consequents   lift\n",
            "0       (Aspirin, 2pct_Milk)  (White_Bread)  6.609\n",
            "1       (2pct_Milk, Bananas)  (White_Bread)  6.833\n",
            "2     (White_Bread, Bananas)    (2pct_Milk)  7.261\n",
            "3        (Cola, Wheat_Bread)    (2pct_Milk)  7.261\n",
            "4  (Popcorn_Salt, 2pct_Milk)         (Eggs)  6.696\n"
          ]
        }
      ]
    },
    {
      "cell_type": "code",
      "source": [
        "#affichage des règles avec un LIFT supérieur ou égal à 7\n",
        "print(myRegles[myRegles['lift'].ge(7.0)])\n"
      ],
      "metadata": {
        "colab": {
          "base_uri": "https://localhost:8080/"
        },
        "id": "0AaK88LJEnK-",
        "outputId": "acd2b2c8-faab-427b-f7ec-c9f0fff2d1e3"
      },
      "execution_count": 29,
      "outputs": [
        {
          "output_type": "stream",
          "name": "stdout",
          "text": [
            "                                antecedents                 consequents   lift\n",
            "2                    (White_Bread, Bananas)                 (2pct_Milk)  7.261\n",
            "3                       (Cola, Wheat_Bread)                 (2pct_Milk)  7.261\n",
            "8                     (Wheat_Bread, Onions)                 (2pct_Milk)  7.574\n",
            "10                  (Potatoes, Wheat_Bread)                 (2pct_Milk)  7.053\n",
            "13                (Wheat_Bread, Toothpaste)                 (2pct_Milk)  7.380\n",
            "16            (Hamburger_Buns, White_Bread)  (98pct_Fat_Free_Hamburger)  8.202\n",
            "17  (98pct_Fat_Free_Hamburger, Wheat_Bread)               (White_Bread)  7.556\n",
            "29             (Hot_Dog_Buns, Sweet_Relish)                  (Hot_Dogs)  9.031\n",
            "35                 (Potatoes, Toilet_Paper)               (White_Bread)  7.319\n",
            "37               (Toilet_Paper, Toothpaste)               (White_Bread)  7.346\n",
            "42        (Eggs, White_Bread, Potato_Chips)                 (2pct_Milk)  7.143\n",
            "45          (Eggs, White_Bread, Toothpaste)                 (2pct_Milk)  7.261\n",
            "46    (2pct_Milk, Toothpaste, Potato_Chips)               (White_Bread)  7.319\n",
            "47   (2pct_Milk, White_Bread, Potato_Chips)                (Toothpaste)  9.514\n",
            "48  (White_Bread, Toothpaste, Potato_Chips)                 (2pct_Milk)  7.569\n",
            "49     (2pct_Milk, White_Bread, Toothpaste)              (Potato_Chips)  7.726\n"
          ]
        }
      ]
    },
    {
      "cell_type": "code",
      "source": [
        "#trier les règles dans l'ordre du lift décroissants - 10 meilleurs règles\n",
        "print(myRegles.sort_values(by='lift',ascending=False)[:10])\n"
      ],
      "metadata": {
        "colab": {
          "base_uri": "https://localhost:8080/"
        },
        "id": "gQeF54mXEnRe",
        "outputId": "f9f8c51a-192a-4eb4-c655-74d147a98a26"
      },
      "execution_count": 30,
      "outputs": [
        {
          "output_type": "stream",
          "name": "stdout",
          "text": [
            "                                antecedents                 consequents   lift\n",
            "47   (2pct_Milk, White_Bread, Potato_Chips)                (Toothpaste)  9.514\n",
            "29             (Hot_Dog_Buns, Sweet_Relish)                  (Hot_Dogs)  9.031\n",
            "16            (Hamburger_Buns, White_Bread)  (98pct_Fat_Free_Hamburger)  8.202\n",
            "49     (2pct_Milk, White_Bread, Toothpaste)              (Potato_Chips)  7.726\n",
            "8                     (Wheat_Bread, Onions)                 (2pct_Milk)  7.574\n",
            "48  (White_Bread, Toothpaste, Potato_Chips)                 (2pct_Milk)  7.569\n",
            "17  (98pct_Fat_Free_Hamburger, Wheat_Bread)               (White_Bread)  7.556\n",
            "13                (Wheat_Bread, Toothpaste)                 (2pct_Milk)  7.380\n",
            "37               (Toilet_Paper, Toothpaste)               (White_Bread)  7.346\n",
            "46    (2pct_Milk, Toothpaste, Potato_Chips)               (White_Bread)  7.319\n"
          ]
        }
      ]
    },
    {
      "cell_type": "code",
      "source": [
        "#filtrer les règles menant au conséquent {‘2pct_milk’}\n",
        "print(myRegles[myRegles['consequents'].eq({'2pct_Milk'})])\n"
      ],
      "metadata": {
        "colab": {
          "base_uri": "https://localhost:8080/"
        },
        "id": "qU-cadehEnZl",
        "outputId": "69c76521-fc70-48e9-9bfc-0f1c5d1b4a02"
      },
      "execution_count": 31,
      "outputs": [
        {
          "output_type": "stream",
          "name": "stdout",
          "text": [
            "                                antecedents  consequents   lift\n",
            "2                    (White_Bread, Bananas)  (2pct_Milk)  7.261\n",
            "3                       (Cola, Wheat_Bread)  (2pct_Milk)  7.261\n",
            "7                       (Wheat_Bread, Eggs)  (2pct_Milk)  6.970\n",
            "8                     (Wheat_Bread, Onions)  (2pct_Milk)  7.574\n",
            "9                (Potato_Chips, Toothpaste)  (2pct_Milk)  6.980\n",
            "10                  (Potatoes, Wheat_Bread)  (2pct_Milk)  7.053\n",
            "13                (Wheat_Bread, Toothpaste)  (2pct_Milk)  7.380\n",
            "42        (Eggs, White_Bread, Potato_Chips)  (2pct_Milk)  7.143\n",
            "45          (Eggs, White_Bread, Toothpaste)  (2pct_Milk)  7.261\n",
            "48  (White_Bread, Toothpaste, Potato_Chips)  (2pct_Milk)  7.569\n"
          ]
        }
      ]
    },
    {
      "cell_type": "code",
      "source": [
        "#filtrer les règles contenant 'Aspirin' dans leur antécédent\n",
        "print(myRegles[myRegles['antecedents'].ge({'Aspirin'})])\n"
      ],
      "metadata": {
        "colab": {
          "base_uri": "https://localhost:8080/"
        },
        "id": "KkEYosXuEnfw",
        "outputId": "78e23e96-4a86-4f7d-fd6d-9a4280d32b61"
      },
      "execution_count": 32,
      "outputs": [
        {
          "output_type": "stream",
          "name": "stdout",
          "text": [
            "                antecedents    consequents   lift\n",
            "0      (Aspirin, 2pct_Milk)  (White_Bread)  6.609\n",
            "18          (Aspirin, Eggs)  (White_Bread)  6.458\n",
            "19  (Aspirin, Potato_Chips)  (White_Bread)  6.339\n",
            "20      (Aspirin, Potatoes)  (White_Bread)  6.962\n",
            "21    (Aspirin, Toothpaste)  (White_Bread)  6.996\n"
          ]
        }
      ]
    }
  ]
}